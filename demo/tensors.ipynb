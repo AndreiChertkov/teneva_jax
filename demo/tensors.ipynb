{
 "cells": [
  {
   "cell_type": "markdown",
   "id": "453b15fd-d186-4682-8b42-1a3e404c4746",
   "metadata": {},
   "source": [
    "**Demo for `teneva_jax.tensors`**\n",
    "\n",
    "---\n",
    "\n",
    "This module contains the collection of functions for explicit construction of various useful TT-tensors (only random tensor for now)."
   ]
  },
  {
   "cell_type": "markdown",
   "id": "35e980ff-8414-408d-bc05-3a6120951e80",
   "metadata": {},
   "source": [
    "## Loading and importing modules"
   ]
  },
  {
   "cell_type": "code",
   "execution_count": 1,
   "id": "c7765103-ddcf-465d-aef3-6bff7bb8788b",
   "metadata": {
    "tags": []
   },
   "outputs": [],
   "source": [
    "from jax.config import config\n",
    "config.update('jax_enable_x64', True)\n",
    "\n",
    "import os\n",
    "os.environ['JAX_PLATFORM_NAME'] = 'cpu'"
   ]
  },
  {
   "cell_type": "code",
   "execution_count": 2,
   "id": "04fbdc39-5fd7-449e-83a1-db3069661e68",
   "metadata": {
    "tags": []
   },
   "outputs": [],
   "source": [
    "import jax\n",
    "import jax.numpy as jnp\n",
    "import teneva as teneva_base\n",
    "import teneva_jax as teneva\n",
    "from time import perf_counter as tpc\n",
    "rng = jax.random.PRNGKey(42)"
   ]
  },
  {
   "cell_type": "markdown",
   "id": "95c3bc75-cd8a-448a-8431-80f028e7ee17",
   "metadata": {},
   "source": [
    "## Function `rand`"
   ]
  },
  {
   "cell_type": "markdown",
   "id": "6d351fd6-5f8a-4045-975f-68bb9052224c",
   "metadata": {},
   "source": [
    "Construct a random TT-tensor from the uniform distribution."
   ]
  },
  {
   "cell_type": "code",
   "execution_count": 3,
   "id": "f200942d-dd17-4258-a860-9e80f1d7e003",
   "metadata": {
    "tags": []
   },
   "outputs": [
    {
     "name": "stdout",
     "output_type": "stream",
     "text": [
      "TT-tensor-jax | d =     6 | n =     5 | r =     4 |\n"
     ]
    }
   ],
   "source": [
    "d = 6                            # Dimension of the tensor\n",
    "n = 5                            # Shape of the tensor\n",
    "r = 4                            # TT-rank for the TT-tensor\n",
    "rng, key = jax.random.split(rng)\n",
    "Y = teneva.rand(d, n, r, key)    # Build the random TT-tensor\n",
    "teneva.show(Y)                   # Print the resulting TT-tensor"
   ]
  },
  {
   "cell_type": "markdown",
   "id": "833169f7-28d4-4b9d-80d6-842010ac2035",
   "metadata": {},
   "source": [
    "We may use custom limits:"
   ]
  },
  {
   "cell_type": "code",
   "execution_count": 4,
   "id": "bdfa1e5a-2869-42f3-9814-368d9dab160d",
   "metadata": {
    "tags": []
   },
   "outputs": [
    {
     "name": "stdout",
     "output_type": "stream",
     "text": [
      "[[[0.99905933 0.99505376 0.99201173 0.99603783]\n",
      "  [0.9982403  0.99355506 0.9977989  0.99978416]\n",
      "  [0.99381576 0.99769924 0.99593848 0.99955382]\n",
      "  [0.99640582 0.99803304 0.99341177 0.99905888]\n",
      "  [0.99696002 0.99767435 0.99508183 0.99683427]]]\n"
     ]
    }
   ],
   "source": [
    "d = 6                            # Dimension of the tensor\n",
    "n = 5                            # Shape of the tensor\n",
    "r = 4                            # TT-rank for the TT-tensor\n",
    "a = 0.99                         # Minimum value\n",
    "b = 1.                           # Maximum value\n",
    "rng, key = jax.random.split(rng)\n",
    "Y = teneva.rand(d, n, r, key, a, b)\n",
    "print(Y[0])                      # Print the first TT-core"
   ]
  },
  {
   "cell_type": "markdown",
   "id": "1430a132-794f-4ef8-87ea-c9aade41c321",
   "metadata": {},
   "source": [
    "## Function `rand_norm`"
   ]
  },
  {
   "cell_type": "markdown",
   "id": "77110cdf-ed45-464d-b030-5bc079465222",
   "metadata": {},
   "source": [
    "Construct a random TT-tensor from the normal distribution."
   ]
  },
  {
   "cell_type": "code",
   "execution_count": 5,
   "id": "b91c4dce-c90d-4897-8c67-0c26b2e734e6",
   "metadata": {
    "tags": []
   },
   "outputs": [
    {
     "name": "stdout",
     "output_type": "stream",
     "text": [
      "TT-tensor-jax | d =     6 | n =     5 | r =     4 |\n"
     ]
    }
   ],
   "source": [
    "d = 6                               # Dimension of the tensor\n",
    "n = 5                               # Shape of the tensor\n",
    "r = 4                               # TT-rank for the TT-tensor\n",
    "rng, key = jax.random.split(rng)\n",
    "Y = teneva.rand_norm(d, n, r, key)  # Build the random TT-tensor\n",
    "teneva.show(Y)                      # Print the resulting TT-tensor"
   ]
  },
  {
   "cell_type": "markdown",
   "id": "a6bf3598-8c06-4961-80ad-7a6a8bd39883",
   "metadata": {},
   "source": [
    "We may use custom limits:"
   ]
  },
  {
   "cell_type": "code",
   "execution_count": 6,
   "id": "bf0f72e1-9285-4132-819e-2998c7d63c5b",
   "metadata": {
    "tags": []
   },
   "outputs": [
    {
     "name": "stdout",
     "output_type": "stream",
     "text": [
      "[[[42.00022745 42.00018383 41.99995424 41.99999947]\n",
      "  [42.00010626 42.00004057 42.00015906 41.99983497]\n",
      "  [42.00001789 41.99989299 42.00008431 41.99996506]\n",
      "  [42.00011325 41.99989364 41.9999467  42.00013334]\n",
      "  [41.99989569 42.0000333  42.00003193 42.00000196]]]\n"
     ]
    }
   ],
   "source": [
    "d = 6                               # Dimension of the tensor\n",
    "n = 5                               # Shape of the tensor\n",
    "r = 4                               # TT-rank for the TT-tensor\n",
    "m = 42.                             # Mean (\"centre\")\n",
    "s = 0.0001                          # Standard deviation\n",
    "rng, key = jax.random.split(rng)\n",
    "Y = teneva.rand_norm(d, n, r, key, m, s)\n",
    "print(Y[0])                         # Print the first TT-core"
   ]
  },
  {
   "cell_type": "markdown",
   "id": "e4b330b1-b020-44e8-81f9-b2d17c0d4531",
   "metadata": {
    "tags": []
   },
   "source": [
    "---"
   ]
  }
 ],
 "metadata": {
  "kernelspec": {
   "display_name": "Python 3 (ipykernel)",
   "language": "python",
   "name": "python3"
  },
  "language_info": {
   "codemirror_mode": {
    "name": "ipython",
    "version": 3
   },
   "file_extension": ".py",
   "mimetype": "text/x-python",
   "name": "python",
   "nbconvert_exporter": "python",
   "pygments_lexer": "ipython3",
   "version": "3.8.16"
  }
 },
 "nbformat": 4,
 "nbformat_minor": 5
}
