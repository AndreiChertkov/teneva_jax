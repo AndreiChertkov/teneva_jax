{
 "cells": [
  {
   "cell_type": "markdown",
   "id": "28fef7d0-6442-42da-b7a9-eaecf1ee8f5b",
   "metadata": {},
   "source": [
    "**Demo for `teneva_jax.transformation`**\n",
    "\n",
    "---\n",
    "\n",
    "This module contains the functions for orthogonalization and truncation of the TT-tensors."
   ]
  },
  {
   "cell_type": "markdown",
   "id": "eae38652-f2a9-46d0-8580-52557ed762c4",
   "metadata": {},
   "source": [
    "## Loading and importing modules"
   ]
  },
  {
   "cell_type": "code",
   "execution_count": 1,
   "id": "23a627a8-361b-4e7d-9dbb-a0eb5944912b",
   "metadata": {
    "tags": []
   },
   "outputs": [],
   "source": [
    "from jax.config import config\n",
    "config.update('jax_enable_x64', True)\n",
    "\n",
    "import os\n",
    "os.environ['JAX_PLATFORM_NAME'] = 'cpu'"
   ]
  },
  {
   "cell_type": "code",
   "execution_count": 2,
   "id": "37d5d966-46b7-4d35-9d1e-6c70477a7018",
   "metadata": {
    "tags": []
   },
   "outputs": [],
   "source": [
    "import jax\n",
    "import jax.numpy as jnp\n",
    "import teneva as teneva_base\n",
    "import teneva_jax as teneva\n",
    "from time import perf_counter as tpc\n",
    "rng = jax.random.PRNGKey(42)"
   ]
  },
  {
   "cell_type": "markdown",
   "id": "7476c10f-0ac3-44f0-9d20-fc055d77e3d6",
   "metadata": {},
   "source": [
    "## Function `full`"
   ]
  },
  {
   "cell_type": "markdown",
   "id": "448ff060-1001-493b-abbe-e73bc6ed3dff",
   "metadata": {},
   "source": [
    "For a given TT-tensor (list of TT-cores), calculates the tensor in full format (this function can only be used for relatively small tensors)."
   ]
  },
  {
   "cell_type": "code",
   "execution_count": 3,
   "id": "fe78a2d4-d466-4ee9-a4a0-68f3d39d7f3e",
   "metadata": {
    "tags": []
   },
   "outputs": [
    {
     "name": "stdout",
     "output_type": "stream",
     "text": [
      "TT-tensor-jax | d =     5 | n =     6 | r =     4 |\n",
      "Error : 5.6e-17\n"
     ]
    }
   ],
   "source": [
    "d = 5     # Dimension of the tensor\n",
    "n = 6     # Mode size of the tensor\n",
    "r = 4     # Rank of the tensor\n",
    "\n",
    "rng, key = jax.random.split(rng)\n",
    "Y = teneva.rand(d, n, r, key)\n",
    "teneva.show(Y)\n",
    "\n",
    "Z = teneva.full(Y)\n",
    "\n",
    "# Compare one value of original tensor and reconstructed tensor:\n",
    "k = jnp.array([0, 1, 2, 3, 4])\n",
    "y = teneva.get(Y, k)\n",
    "z = Z[tuple(k)]\n",
    "e = jnp.abs(z-y)\n",
    "print(f'Error : {e:7.1e}')"
   ]
  },
  {
   "cell_type": "markdown",
   "id": "fc86b94f-96fc-4084-8f17-c821351ce65e",
   "metadata": {
    "tags": []
   },
   "source": [
    "## Function `orthogonalize_rtl`"
   ]
  },
  {
   "cell_type": "markdown",
   "id": "3075de02-63c4-40c3-ac56-e9a69a8c5009",
   "metadata": {},
   "source": [
    "Orthogonalization for TT-tensor from right to left."
   ]
  },
  {
   "cell_type": "code",
   "execution_count": 4,
   "id": "a48320b9-7747-4058-b51e-0740a80ba20f",
   "metadata": {
    "tags": []
   },
   "outputs": [
    {
     "name": "stdout",
     "output_type": "stream",
     "text": [
      "TT-tensor-jax | d =     7 | n =     4 | r =     3 |\n"
     ]
    }
   ],
   "source": [
    "rng, key = jax.random.split(rng)\n",
    "Y = teneva.rand_norm(d=7, n=4, r=3, key=key)\n",
    "Z = teneva.orthogonalize_rtl(Y)\n",
    "teneva.show(Z)"
   ]
  },
  {
   "cell_type": "markdown",
   "id": "8aeb502d-c438-4059-bf44-27e4e6f78b9b",
   "metadata": {},
   "source": [
    "We can verify that the values of the orthogonalized tensor have not changed:"
   ]
  },
  {
   "cell_type": "code",
   "execution_count": 5,
   "id": "0c952e5d-e4ae-4105-8bc3-b104739d211f",
   "metadata": {
    "tags": []
   },
   "outputs": [
    {
     "name": "stdout",
     "output_type": "stream",
     "text": [
      "Error     : 5.68e-13\n"
     ]
    }
   ],
   "source": [
    "Y_full = teneva.full(Y)\n",
    "Z_full = teneva.full(Z)\n",
    "e = jnp.max(jnp.abs(Y_full - Z_full))\n",
    "print(f'Error     : {e:-8.2e}')"
   ]
  },
  {
   "cell_type": "markdown",
   "id": "91d2c862-6dc9-4932-8c53-817df2d52b5c",
   "metadata": {},
   "source": [
    "And we can make sure that all TT-cores, except the first one, have become orthogonalized (in terms of the TT-format):"
   ]
  },
  {
   "cell_type": "code",
   "execution_count": 6,
   "id": "74fd6b32-6880-4970-97b5-ec1b4500f834",
   "metadata": {
    "tags": []
   },
   "outputs": [
    {
     "name": "stdout",
     "output_type": "stream",
     "text": [
      "[[34549434.73187065]]\n",
      "[[ 1.00000000e+00 -2.08166817e-17  2.77555756e-17]\n",
      " [-2.08166817e-17  1.00000000e+00  1.38777878e-17]\n",
      " [ 2.77555756e-17  1.38777878e-17  1.00000000e+00]]\n",
      "[[ 1.00000000e+00 -2.77555756e-17 -2.77555756e-17]\n",
      " [-2.77555756e-17  1.00000000e+00 -1.11022302e-16]\n",
      " [-2.77555756e-17 -1.11022302e-16  1.00000000e+00]]\n",
      "[[ 1.00000000e+00  2.77555756e-17  4.16333634e-17]\n",
      " [ 2.77555756e-17  1.00000000e+00 -2.77555756e-17]\n",
      " [ 4.16333634e-17 -2.77555756e-17  1.00000000e+00]]\n",
      "[[ 1.00000000e+00 -1.66533454e-16 -2.77555756e-17]\n",
      " [-1.66533454e-16  1.00000000e+00 -2.77555756e-17]\n",
      " [-2.77555756e-17 -2.77555756e-17  1.00000000e+00]]\n",
      "[[ 1.00000000e+00 -1.80411242e-16  1.11022302e-16]\n",
      " [-1.80411242e-16  1.00000000e+00 -5.55111512e-17]\n",
      " [ 1.11022302e-16 -5.55111512e-17  1.00000000e+00]]\n",
      "[[1.00000000e+00 3.12250226e-17 8.32667268e-17]\n",
      " [3.12250226e-17 1.00000000e+00 2.77555756e-16]\n",
      " [8.32667268e-17 2.77555756e-16 1.00000000e+00]]\n"
     ]
    }
   ],
   "source": [
    "Zl, Zm, Zr = Z\n",
    "\n",
    "v = [Zl[:, j, :] @ Zl[:, j, :].T for j in range(Zl.shape[1])]\n",
    "print(jnp.sum(jnp.array(v), axis=0))\n",
    "\n",
    "for G in Zm:\n",
    "    v = [G[:, j, :] @ G[:, j, :].T for j in range(G.shape[1])]\n",
    "    print(jnp.sum(jnp.array(v), axis=0))\n",
    "    \n",
    "v = [Zr[:, j, :] @ Zr[:, j, :].T for j in range(Zr.shape[1])]\n",
    "print(jnp.sum(jnp.array(v), axis=0))"
   ]
  },
  {
   "cell_type": "markdown",
   "id": "e8002af7-ced1-44e3-91ea-927ace46d369",
   "metadata": {},
   "source": [
    "## Function `orthogonalize_rtl_stab`"
   ]
  },
  {
   "cell_type": "markdown",
   "id": "9b838bf5-b3f5-4f7e-b79f-98f50855872b",
   "metadata": {},
   "source": [
    "Orthogonalization for TT-tensor from right to left with stabilization factor."
   ]
  },
  {
   "cell_type": "code",
   "execution_count": 7,
   "id": "f28b39f0-1224-4c29-837d-f7eb80388e63",
   "metadata": {
    "tags": []
   },
   "outputs": [
    {
     "name": "stdout",
     "output_type": "stream",
     "text": [
      "TT-tensor-jax | d =     7 | n =     4 | r =     3 |\n"
     ]
    }
   ],
   "source": [
    "rng, key = jax.random.split(rng)\n",
    "Y = teneva.rand_norm(d=7, n=4, r=3, key=key)\n",
    "Z_stab, p_stab = teneva.orthogonalize_rtl_stab(Y)\n",
    "teneva.show(Z)"
   ]
  },
  {
   "cell_type": "markdown",
   "id": "a4bf2e00-bd99-42d0-9b64-70e82c94f68f",
   "metadata": {},
   "source": [
    "We can verify that the values of the orthogonalized tensor have not changed:"
   ]
  },
  {
   "cell_type": "code",
   "execution_count": 8,
   "id": "e948e06c-1100-458b-a91d-91162944df7e",
   "metadata": {
    "tags": []
   },
   "outputs": [
    {
     "name": "stdout",
     "output_type": "stream",
     "text": [
      "Error     : 2.56e-13\n"
     ]
    }
   ],
   "source": [
    "Z = teneva.copy(Z_stab)\n",
    "Z[0] *= 2**jnp.sum(p_stab)\n",
    "\n",
    "Y_full = teneva.full(Y)\n",
    "Z_full = teneva.full(Z)\n",
    "e = jnp.max(jnp.abs(Y_full - Z_full))\n",
    "print(f'Error     : {e:-8.2e}')"
   ]
  },
  {
   "cell_type": "code",
   "execution_count": 9,
   "id": "0d86bd21-6394-4ca7-82ba-e295e2927fa8",
   "metadata": {
    "tags": []
   },
   "outputs": [
    {
     "name": "stdout",
     "output_type": "stream",
     "text": [
      "[[7.15816805]]\n",
      "[[ 1.00000000e+00  1.52655666e-16  0.00000000e+00]\n",
      " [ 1.52655666e-16  1.00000000e+00 -1.38777878e-17]\n",
      " [ 0.00000000e+00 -1.38777878e-17  1.00000000e+00]]\n",
      "[[ 1.00000000e+00  5.55111512e-17 -2.77555756e-17]\n",
      " [ 5.55111512e-17  1.00000000e+00 -2.77555756e-17]\n",
      " [-2.77555756e-17 -2.77555756e-17  1.00000000e+00]]\n",
      "[[ 1.00000000e+00 -6.24500451e-17 -2.77555756e-17]\n",
      " [-6.24500451e-17  1.00000000e+00  1.38777878e-17]\n",
      " [-2.77555756e-17  1.38777878e-17  1.00000000e+00]]\n",
      "[[ 1.00000000e+00 -4.16333634e-17  0.00000000e+00]\n",
      " [-4.16333634e-17  1.00000000e+00 -9.71445147e-17]\n",
      " [ 0.00000000e+00 -9.71445147e-17  1.00000000e+00]]\n",
      "[[ 1.00000000e+00 -2.77555756e-17 -1.24900090e-16]\n",
      " [-2.77555756e-17  1.00000000e+00  0.00000000e+00]\n",
      " [-1.24900090e-16  0.00000000e+00  1.00000000e+00]]\n",
      "[[1.00000000e+00 1.94289029e-16 5.55111512e-17]\n",
      " [1.94289029e-16 1.00000000e+00 1.38777878e-17]\n",
      " [5.55111512e-17 1.38777878e-17 1.00000000e+00]]\n"
     ]
    }
   ],
   "source": [
    "Zl, Zm, Zr = Z_stab\n",
    "\n",
    "v = [Zl[:, j, :] @ Zl[:, j, :].T for j in range(Zl.shape[1])]\n",
    "print(jnp.sum(jnp.array(v), axis=0))\n",
    "\n",
    "for G in Zm:\n",
    "    v = [G[:, j, :] @ G[:, j, :].T for j in range(G.shape[1])]\n",
    "    print(jnp.sum(jnp.array(v), axis=0))\n",
    "    \n",
    "v = [Zr[:, j, :] @ Zr[:, j, :].T for j in range(Zr.shape[1])]\n",
    "print(jnp.sum(jnp.array(v), axis=0))"
   ]
  },
  {
   "cell_type": "markdown",
   "id": "0c3a12a8-48db-456d-9083-2d3ed6715bad",
   "metadata": {},
   "source": [
    "---"
   ]
  }
 ],
 "metadata": {
  "kernelspec": {
   "display_name": "Python 3 (ipykernel)",
   "language": "python",
   "name": "python3"
  },
  "language_info": {
   "codemirror_mode": {
    "name": "ipython",
    "version": 3
   },
   "file_extension": ".py",
   "mimetype": "text/x-python",
   "name": "python",
   "nbconvert_exporter": "python",
   "pygments_lexer": "ipython3",
   "version": "3.8.16"
  }
 },
 "nbformat": 4,
 "nbformat_minor": 5
}
