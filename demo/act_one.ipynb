{
 "cells": [
  {
   "cell_type": "markdown",
   "id": "2d1cd616-8baa-4143-8b82-ab9f5e529411",
   "metadata": {},
   "source": [
    "**Demo for `teneva_jax.act_one`**\n",
    "\n",
    "---\n",
    "\n",
    "This module contains the basic operations with one TT-tensor (Y), including \"copy\", \"get\", \"sum\", etc."
   ]
  },
  {
   "cell_type": "markdown",
   "id": "e1dc347f-8afa-418c-ac29-544189f40ec3",
   "metadata": {
    "tags": []
   },
   "source": [
    "## Loading and importing modules"
   ]
  },
  {
   "cell_type": "code",
   "execution_count": 1,
   "id": "23fd95c3-185d-4113-b9a9-241ce5dc77d0",
   "metadata": {
    "tags": []
   },
   "outputs": [],
   "source": [
    "from jax.config import config\n",
    "config.update('jax_enable_x64', True)\n",
    "\n",
    "import os\n",
    "os.environ['JAX_PLATFORM_NAME'] = 'cpu'"
   ]
  },
  {
   "cell_type": "code",
   "execution_count": 2,
   "id": "22c02559-23ab-4428-8213-20ee7725cd82",
   "metadata": {
    "tags": []
   },
   "outputs": [],
   "source": [
    "import jax\n",
    "import jax.numpy as jnp\n",
    "import teneva as teneva_base\n",
    "import teneva_jax as teneva\n",
    "from time import perf_counter as tpc\n",
    "rng = jax.random.PRNGKey(42)"
   ]
  },
  {
   "cell_type": "markdown",
   "id": "96777c3d-a17d-48f1-a1f3-b0e5d6d2e8a5",
   "metadata": {
    "tags": []
   },
   "source": [
    "## Function `convert`"
   ]
  },
  {
   "cell_type": "markdown",
   "id": "1c8e6468-b6bd-4c0a-b8ce-aaee29446a0a",
   "metadata": {},
   "source": [
    "Convert TT-tensor from base (numpy) format and back."
   ]
  },
  {
   "cell_type": "code",
   "execution_count": 3,
   "id": "62ab42f6-e2e9-48bd-be87-5481fdeebb5e",
   "metadata": {
    "tags": []
   },
   "outputs": [],
   "source": [
    "import numpy as onp"
   ]
  },
  {
   "cell_type": "markdown",
   "id": "630c46a0-a261-4043-a648-b9bf8736a1c4",
   "metadata": {},
   "source": [
    "Let build jax TT-tensor and convert it to numpy (base) version:"
   ]
  },
  {
   "cell_type": "code",
   "execution_count": 4,
   "id": "c09a4fc3-e49a-41c5-ab54-a12a7792f00f",
   "metadata": {
    "tags": []
   },
   "outputs": [
    {
     "name": "stdout",
     "output_type": "stream",
     "text": [
      "TT-tensor-jax | d =     6 | n =     5 | r =     4 |\n",
      "Is jax   :  True\n",
      "Is numpy :  False\n"
     ]
    }
   ],
   "source": [
    "rng, key = jax.random.split(rng)\n",
    "Y = teneva.rand(6, 5, 4, key)\n",
    "teneva.show(Y)\n",
    "\n",
    "print('Is jax   : ', isinstance(Y[0], jnp.ndarray))\n",
    "print('Is numpy : ', isinstance(Y[0], onp.ndarray))"
   ]
  },
  {
   "cell_type": "code",
   "execution_count": 5,
   "id": "b065ae1f-0a62-4ba1-b9a0-1c81a6ab9ac6",
   "metadata": {
    "tags": []
   },
   "outputs": [
    {
     "name": "stdout",
     "output_type": "stream",
     "text": [
      "TT-tensor     6D : |5| |5| |5| |5| |5| |5|\n",
      "<rank>  =    4.0 :   \\4/ \\4/ \\4/ \\4/ \\4/\n",
      "Is jax   :  False\n",
      "Is numpy :  True\n"
     ]
    }
   ],
   "source": [
    "Y_base = teneva.convert(Y)\n",
    "teneva_base.show(Y_base)\n",
    "\n",
    "print('Is jax   : ', isinstance(Y_base[0], jnp.ndarray))\n",
    "print('Is numpy : ', isinstance(Y_base[0], onp.ndarray))"
   ]
  },
  {
   "cell_type": "markdown",
   "id": "afd67cad-d51d-4ef5-9bd3-0c982a2fc4fa",
   "metadata": {},
   "source": [
    "And now let convert the numpy (base) TT-tensor back into jax format:"
   ]
  },
  {
   "cell_type": "code",
   "execution_count": 6,
   "id": "a984580f-fa93-4092-a088-af8c05313759",
   "metadata": {
    "tags": []
   },
   "outputs": [
    {
     "name": "stdout",
     "output_type": "stream",
     "text": [
      "TT-tensor-jax | d =     6 | n =     5 | r =     4 |\n",
      "Is jax   :  True\n",
      "Is numpy :  False\n",
      "Error    :  0.0\n"
     ]
    }
   ],
   "source": [
    "Z = teneva.convert(Y_base)\n",
    "teneva.show(Z)\n",
    "\n",
    "# Check that it is the same:\n",
    "e = jnp.max(jnp.abs(teneva.full(Y) - teneva.full(Z)))\n",
    "\n",
    "print('Is jax   : ', isinstance(Z[0], jnp.ndarray))\n",
    "print('Is numpy : ', isinstance(Z[0], onp.ndarray))\n",
    "print('Error    : ', e)   "
   ]
  },
  {
   "cell_type": "markdown",
   "id": "200a3c92-ae1e-4ff2-a30d-39b83175dddf",
   "metadata": {
    "tags": []
   },
   "source": [
    "## Function `copy`"
   ]
  },
  {
   "cell_type": "markdown",
   "id": "2bb8131e-c604-49fd-922a-a27a96855396",
   "metadata": {},
   "source": [
    "Return a copy of the given TT-tensor."
   ]
  },
  {
   "cell_type": "code",
   "execution_count": 7,
   "id": "2aaf90b0-107e-46ea-bca5-0d7661506cb1",
   "metadata": {
    "tags": []
   },
   "outputs": [
    {
     "name": "stdout",
     "output_type": "stream",
     "text": [
      "-0.37622900483374\n",
      "-0.37622900483374\n"
     ]
    }
   ],
   "source": [
    "# 10-dim random TT-tensor with mode size 4 and TT-rank 12:\n",
    "rng, key = jax.random.split(rng)\n",
    "Y = teneva.rand(10, 9, 7, key)\n",
    "\n",
    "Z = teneva.copy(Y) # The copy of Y  \n",
    "\n",
    "print(Y[2][1, 2, 0])\n",
    "print(Z[2][1, 2, 0])"
   ]
  },
  {
   "cell_type": "markdown",
   "id": "905d2392-9fee-422f-84bb-197b712045fd",
   "metadata": {
    "tags": []
   },
   "source": [
    "## Function `get`"
   ]
  },
  {
   "cell_type": "markdown",
   "id": "b090e284-1a1b-4113-b91f-59584cefe05e",
   "metadata": {},
   "source": [
    "Compute the element with multiindex \"k\" from the TT-tensor \"Y\"."
   ]
  },
  {
   "cell_type": "code",
   "execution_count": 8,
   "id": "5d5dca4d-b617-43da-b2f5-66768eeeacbc",
   "metadata": {
    "tags": []
   },
   "outputs": [
    {
     "name": "stdout",
     "output_type": "stream",
     "text": [
      "TT-tensor-jax | d =     5 | n =     2 | r =     2 |\n",
      "Error : 6.7e-16\n"
     ]
    }
   ],
   "source": [
    "d = 5  # Dimension of the tensor\n",
    "n = 4  # Mode size of the tensor\n",
    "r = 2  # Rank of the tensor\n",
    "\n",
    "# Construct d-dim full array:\n",
    "t = jnp.arange(2**d) # Tensor will be 2^d\n",
    "Y0 = jnp.cos(t).reshape([2] * d, order='F')\n",
    "\n",
    "# Compute TT-tensor from Y0 by TT-SVD:  \n",
    "Y1 = teneva.svd(Y0, r)\n",
    "\n",
    "# Print the TT-tensor:\n",
    "teneva.show(Y1)\n",
    "\n",
    "# Select some tensor element and compute the value:\n",
    "k = jnp.array([0, 1, 0, 1, 0])\n",
    "y1 = teneva.get(Y1, k)\n",
    "\n",
    "# Compute the same element of the original tensor:\n",
    "y0 = Y0[tuple(k)]\n",
    "\n",
    "# Compare values:\n",
    "e = jnp.abs(y1-y0)\n",
    "print(f'Error : {e:7.1e}')"
   ]
  },
  {
   "cell_type": "markdown",
   "id": "f5318e41-0369-4cc4-835a-d4435e7bdf62",
   "metadata": {
    "tags": []
   },
   "source": [
    "Let compare this function with numpy realization:"
   ]
  },
  {
   "cell_type": "code",
   "execution_count": 9,
   "id": "f5caa57d-adb4-48c9-b4cf-385fd9bc96de",
   "metadata": {
    "tags": []
   },
   "outputs": [
    {
     "name": "stdout",
     "output_type": "stream",
     "text": [
      "-0.8390715290764531\n",
      "-0.8390715290764531\n"
     ]
    }
   ],
   "source": [
    "Y1_base = teneva.convert(Y1) # Convert tensor to numpy version\n",
    "y1_base = teneva_base.get(Y1_base, k)\n",
    "\n",
    "print(y1)\n",
    "print(y1_base)"
   ]
  },
  {
   "cell_type": "markdown",
   "id": "017e1c1c-8ca4-4028-bb19-b3a74c1444c8",
   "metadata": {
    "tags": []
   },
   "source": [
    "## Function `get_log`"
   ]
  },
  {
   "cell_type": "markdown",
   "id": "eec40c9e-4a63-4766-bf8b-b6e5a5ebf059",
   "metadata": {},
   "source": [
    "Compute the logarithm of the element of the TT-tensor."
   ]
  },
  {
   "cell_type": "code",
   "execution_count": 10,
   "id": "7622468e-e15f-438a-8a0d-73c5eec5565c",
   "metadata": {
    "tags": []
   },
   "outputs": [
    {
     "name": "stdout",
     "output_type": "stream",
     "text": [
      "TT-tensor-jax | d =     6 | n =     5 | r =     4 |\n",
      "Error : 0.0e+00\n"
     ]
    }
   ],
   "source": [
    "d = 6  # Dimension of the tensor\n",
    "n = 5  # Mode size of the tensor\n",
    "r = 2  # Rank of the tensor\n",
    "\n",
    "# Construct random d-dim non-negative TT-tensor:\n",
    "rng, key = jax.random.split(rng)\n",
    "Y = teneva.rand(d, n, r, key)\n",
    "Y = teneva.mul(Y, Y)\n",
    "\n",
    "# Print the TT-tensor:\n",
    "teneva.show(Y)\n",
    "\n",
    "# Compute the full tensor from the TT-tensor:  \n",
    "Y0 = teneva.full(Y)\n",
    "\n",
    "# Select some tensor element and compute the value:\n",
    "k = jnp.array([3, 1, 2, 1, 0, 4])\n",
    "y1 = teneva.get_log(Y, k)\n",
    "\n",
    "# Compute the same element of the original tensor:\n",
    "y0 = jnp.log(Y0[tuple(k)])\n",
    "\n",
    "# Compare values:\n",
    "e = jnp.abs(y1-y0)\n",
    "print(f'Error : {e:7.1e}')"
   ]
  },
  {
   "cell_type": "markdown",
   "id": "231ea0ae-fc51-4356-89f5-04d9d6ac96d9",
   "metadata": {},
   "source": [
    "We may also use vmap and jit for this function:"
   ]
  },
  {
   "cell_type": "code",
   "execution_count": 11,
   "id": "e64f68f0-1419-4196-856f-68cb9df7350f",
   "metadata": {
    "tags": []
   },
   "outputs": [
    {
     "name": "stdout",
     "output_type": "stream",
     "text": [
      "[-2.64939165 -0.71116583]\n"
     ]
    }
   ],
   "source": [
    "d = 10   # Dimension of the tensor\n",
    "n = 10   # Mode size of the tensor\n",
    "r = 3    # Rank of the tensor\n",
    "m = 1000 # Batch size\n",
    "\n",
    "rng, key = jax.random.split(rng)\n",
    "Y = teneva.rand(d, n, r, key)\n",
    "Y = teneva.mul(Y, Y)\n",
    "\n",
    "rng, key = jax.random.split(rng)\n",
    "K = teneva.sample_lhs(d, n, m, key)\n",
    "\n",
    "get_log = jax.vmap(jax.jit(teneva.get_log), (None, 0))\n",
    "y = get_log(Y, K)\n",
    "print(y[:2])"
   ]
  },
  {
   "cell_type": "markdown",
   "id": "2ca906df-570b-44bb-ba08-dbf8e0fc5bc4",
   "metadata": {
    "tags": []
   },
   "source": [
    "## Function `get_many`"
   ]
  },
  {
   "cell_type": "markdown",
   "id": "209f5bfa-1d52-489f-91c4-65fd1233b2f7",
   "metadata": {},
   "source": [
    "Compute the elements of the TT-tensor on many multi-indices."
   ]
  },
  {
   "cell_type": "code",
   "execution_count": 12,
   "id": "86ecd198-5f76-4d4e-ab90-61a731abd48e",
   "metadata": {
    "tags": []
   },
   "outputs": [
    {
     "name": "stdout",
     "output_type": "stream",
     "text": [
      "TT-tensor-jax | d =     5 | n =     2 | r =     2 |\n",
      "Error : 8.9e-16\n"
     ]
    }
   ],
   "source": [
    "d = 5  # Dimension of the tensor\n",
    "n = 4  # Mode size of the tensor\n",
    "r = 2  # Rank of the tensor\n",
    "\n",
    "# Construct d-dim full array:\n",
    "t = jnp.arange(2**d) # Tensor will be 2^d\n",
    "Y0 = jnp.cos(t).reshape([2] * d, order='F')\n",
    "\n",
    "# Compute TT-tensor from Y0 by TT-SVD:  \n",
    "Y1 = teneva.svd(Y0, r)\n",
    "\n",
    "# Print the TT-tensor:\n",
    "teneva.show(Y1)\n",
    "\n",
    "# Select some tensor element and compute the value:\n",
    "K = jnp.array([\n",
    "    [0, 1, 0, 1, 0],\n",
    "    [0, 0, 0, 0, 0],\n",
    "    [1, 1, 1, 1, 1],\n",
    "])\n",
    "y1 = teneva.get_many(Y1, K)\n",
    "\n",
    "# Compute the same elements of the original tensor:\n",
    "y0 = jnp.array([Y0[tuple(k)] for k in K])\n",
    "\n",
    "# Compare values:\n",
    "e = jnp.max(jnp.abs(y1-y0))\n",
    "print(f'Error : {e:7.1e}')"
   ]
  },
  {
   "cell_type": "markdown",
   "id": "b592303f-a7e3-463d-afab-e3d265e9e6f7",
   "metadata": {},
   "source": [
    "We can compare the calculation time using the base function (\"get\") with \"jax.vmap\" and the function \"get_many\":"
   ]
  },
  {
   "cell_type": "code",
   "execution_count": 13,
   "id": "5068b019-9787-46d3-a2de-9f3216abf231",
   "metadata": {
    "tags": []
   },
   "outputs": [
    {
     "name": "stdout",
     "output_type": "stream",
     "text": [
      "m: 1.0e+00 | T1 :   0.0602 | T2 :   0.0593\n",
      "m: 1.0e+01 | T1 :   0.0858 | T2 :   0.0863\n",
      "m: 1.0e+02 | T1 :   0.1060 | T2 :   0.1050\n",
      "m: 1.0e+03 | T1 :   0.1555 | T2 :   0.1624\n",
      "m: 1.0e+04 | T1 :   0.7481 | T2 :   0.7820\n"
     ]
    }
   ],
   "source": [
    "d = 1000   # Dimension of the tensor\n",
    "n = 100    # Mode size of the tensor\n",
    "r = 10     # Rank of the tensor\n",
    "\n",
    "rng, key = jax.random.split(rng)\n",
    "Y = teneva.rand(d, n, r, key)\n",
    "\n",
    "get1 = jax.jit(jax.vmap(teneva.get, (None, 0)))\n",
    "get2 = jax.jit(teneva.get_many)\n",
    "\n",
    "for m in [1, 1.E+1, 1.E+2, 1.E+3, 1.E+4]:\n",
    "    # TODO: remove teneva_base here\n",
    "    I = jnp.array(teneva_base.sample_lhs([n]*d, int(m)))\n",
    "\n",
    "    t1 = tpc()\n",
    "    y1 = get1(Y, I)\n",
    "    t1 = tpc() - t1\n",
    "\n",
    "    t2 = tpc()\n",
    "    y2 = get2(Y, I)\n",
    "    t2 = tpc() - t2\n",
    "\n",
    "    print(f'm: {m:-7.1e} | T1 : {t1:-8.4f} | T2 : {t2:-8.4f}')"
   ]
  },
  {
   "cell_type": "markdown",
   "id": "663a28fe-257c-462f-a924-416d102a0d58",
   "metadata": {
    "tags": []
   },
   "source": [
    "## Function `get_stab`"
   ]
  },
  {
   "cell_type": "markdown",
   "id": "024e8089-1932-43c5-a161-6bfcb8d03ab3",
   "metadata": {},
   "source": [
    "Compute the element with multiindex \"k\" from the TT-tensor \"Y\" with stabilization factor."
   ]
  },
  {
   "cell_type": "code",
   "execution_count": 14,
   "id": "bc409b23-b050-4558-9e23-6cff9947a5aa",
   "metadata": {
    "tags": []
   },
   "outputs": [
    {
     "name": "stdout",
     "output_type": "stream",
     "text": [
      "TT-tensor-jax | d =     5 | n =     2 | r =     2 |\n",
      "-1.6781430581529062\n",
      "[ 0.  0.  0. -1.  0.]\n",
      "-0.8390715290764531\n",
      "Error : 6.7e-16\n"
     ]
    }
   ],
   "source": [
    "d = 5  # Dimension of the tensor\n",
    "n = 4  # Mode size of the tensor\n",
    "r = 2  # Rank of the tensor\n",
    "\n",
    "# Construct d-dim full array:\n",
    "t = jnp.arange(2**d) # Tensor will be 2^d\n",
    "Y0 = jnp.cos(t).reshape([2] * d, order='F')\n",
    "\n",
    "# Compute TT-tensor from Y0 by TT-SVD:  \n",
    "Y1 = teneva.svd(Y0, r)\n",
    "\n",
    "# Print the TT-tensor:\n",
    "teneva.show(Y1)\n",
    "\n",
    "# Select some tensor element and compute the value:\n",
    "k = jnp.array([0, 1, 0, 1, 0])\n",
    "y1, p1 = teneva.get_stab(Y1, k)\n",
    "print(y1)\n",
    "print(p1)\n",
    "\n",
    "# Reconstruct the value:\n",
    "y1 = y1 * 2.**jnp.sum(p1)\n",
    "print(y1)\n",
    "\n",
    "# Compute the same element of the original tensor:\n",
    "y0 = Y0[tuple(k)]\n",
    "\n",
    "# Compare values:\n",
    "e = jnp.abs(y1-y0)\n",
    "print(f'Error : {e:7.1e}')"
   ]
  },
  {
   "cell_type": "markdown",
   "id": "cd33b4f4-bb22-46c4-8aef-4a64ec3ac3f1",
   "metadata": {},
   "source": [
    "We can check it also for big random tensor:"
   ]
  },
  {
   "cell_type": "code",
   "execution_count": 15,
   "id": "f539c5aa-c878-47a4-9c73-f64bc3983aa4",
   "metadata": {
    "tags": []
   },
   "outputs": [
    {
     "name": "stdout",
     "output_type": "stream",
     "text": [
      "-1.1007570174016164 799.0\n"
     ]
    }
   ],
   "source": [
    "rng, key = jax.random.split(rng)\n",
    "Y = teneva.rand(d=1000, n=100, r=10, key=key)\n",
    "k = jnp.zeros(1000, dtype=jnp.int32)\n",
    "y, p = teneva.get_stab(Y, k)\n",
    "print(y, jnp.sum(p))"
   ]
  },
  {
   "cell_type": "markdown",
   "id": "7b61ad3b-7794-4a62-aaa5-3fb49a9c3d37",
   "metadata": {
    "tags": []
   },
   "source": [
    "## Function `grad`"
   ]
  },
  {
   "cell_type": "markdown",
   "id": "9d5f9021-86fd-469e-b72f-426e6d9e407c",
   "metadata": {},
   "source": [
    "Compute gradients of the TT-tensor for given multi-index."
   ]
  },
  {
   "cell_type": "code",
   "execution_count": 16,
   "id": "ad3c8096-0f05-4307-bbdf-581bcb936490",
   "metadata": {
    "tags": []
   },
   "outputs": [],
   "source": [
    "l = 1.E-4   # Learning rate\n",
    "d = 5       # Dimension of the tensor\n",
    "n = 4       # Mode size of the tensor\n",
    "r = 2       # Rank of the tensor\n",
    "\n",
    "rng, key = jax.random.split(rng)\n",
    "Y = teneva.rand(d, n, r, key=key)\n",
    "\n",
    "# Targer multi-index for gradient:\n",
    "i = jnp.array([0, 1, 2, 3, 0])\n",
    "\n",
    "y = teneva.get(Y, i)\n",
    "dY = teneva.grad(Y, i)"
   ]
  },
  {
   "cell_type": "markdown",
   "id": "ef4bc0df-7e2c-4b48-ad7d-c6f28c17ae90",
   "metadata": {},
   "source": [
    "Let compare this function with numpy (base) realization:"
   ]
  },
  {
   "cell_type": "code",
   "execution_count": 17,
   "id": "424b6d1a-4b00-4833-9d2b-34f1677a53fb",
   "metadata": {
    "tags": []
   },
   "outputs": [
    {
     "name": "stdout",
     "output_type": "stream",
     "text": [
      "Error :  6.938893903907228e-18\n"
     ]
    }
   ],
   "source": [
    "Y_base = teneva.convert(Y) # Convert it to numpy version\n",
    "y_base, dY_base = teneva_base.get_and_grad(Y_base, i)\n",
    "dY_base = [G[:, k, :] for G, k in zip(dY_base, i)]\n",
    "dY_base = [dY_base[0], jnp.array(dY_base[1:-1]), dY_base[-1]]\n",
    "print('Error : ', jnp.max(jnp.array([jnp.max(jnp.abs(g-g_base)) for g, g_base in zip(dY, dY_base)])))"
   ]
  },
  {
   "cell_type": "markdown",
   "id": "a1efb684-ee92-4f0a-978e-68848edcd9ea",
   "metadata": {},
   "source": [
    "Let apply the gradient:"
   ]
  },
  {
   "cell_type": "code",
   "execution_count": 18,
   "id": "2e9dbf4c-2eb6-488c-8f72-c0bbc724201e",
   "metadata": {
    "tags": []
   },
   "outputs": [
    {
     "name": "stdout",
     "output_type": "stream",
     "text": [
      "Old value at multi-index : -1.22741e-02\n",
      "New value at multi-index : -1.22785e-02\n",
      "Difference for tensors   :      2.6e-05\n"
     ]
    }
   ],
   "source": [
    "Z = teneva.copy(Y) # TODO\n",
    "Z[0] = Z[0].at[:, i[0], :].add(-l * dY[0])\n",
    "for k in range(1, d-1):\n",
    "    Z[1] = Z[1].at[k-1, :, i[k], :].add(-l * dY[1][k-1])\n",
    "Z[2] = Z[2].at[:, i[d-1], :].add(-l * dY[2])\n",
    "\n",
    "z = teneva.get(Z, i)\n",
    "e = jnp.max(jnp.abs(teneva.full(Y) - teneva.full(Z)))\n",
    "\n",
    "print(f'Old value at multi-index : {y:-12.5e}')\n",
    "print(f'New value at multi-index : {z:-12.5e}')\n",
    "print(f'Difference for tensors   : {e:-12.1e}')"
   ]
  },
  {
   "cell_type": "markdown",
   "id": "b340976b-51db-44f1-876e-f6b084525970",
   "metadata": {
    "tags": []
   },
   "source": [
    "## Function `interface_ltr`"
   ]
  },
  {
   "cell_type": "markdown",
   "id": "8f2d3e99-b974-432f-8559-4f6711e5e1ee",
   "metadata": {},
   "source": [
    "Generate the left to right interface vectors for the TT-tensor Y."
   ]
  },
  {
   "cell_type": "code",
   "execution_count": 19,
   "id": "f10604e8-56a4-452e-b706-293c5f6f845a",
   "metadata": {
    "tags": []
   },
   "outputs": [
    {
     "name": "stdout",
     "output_type": "stream",
     "text": [
      "[-0.16194455  0.01090809  0.97433024  0.1559986 ]\n",
      "[ 0.67701845 -0.17267149  0.46267419  0.5456768 ]\n",
      "[-0.6388783  -0.61156506 -0.43463404  0.1700469 ]\n",
      "[-0.58225588  0.11947942  0.05768481 -0.80210674]\n",
      "[-0.32840251  0.8625416   0.19736311  0.3304869 ]\n",
      "[ 0.53878607 -0.53108736  0.27270038  0.59438228]\n",
      "[ 0.8023033  -0.42153121 -0.33042209 -0.26351867]\n"
     ]
    }
   ],
   "source": [
    "rng, key = jax.random.split(rng)\n",
    "Y = teneva.rand(d=8, n=5, r=4, key=key)\n",
    "zm, zr = teneva.interface_ltr(Y)\n",
    "\n",
    "for z in zm:\n",
    "    print(z)\n",
    "print(zr)"
   ]
  },
  {
   "cell_type": "markdown",
   "id": "849a8b39-a691-4e9b-b11b-3d2e3edabed4",
   "metadata": {},
   "source": [
    "Let compare this function with numpy (base) realization:"
   ]
  },
  {
   "cell_type": "code",
   "execution_count": 20,
   "id": "3ab0fecb-c916-4821-9d8b-8a7c1f7da615",
   "metadata": {
    "tags": []
   },
   "outputs": [
    {
     "name": "stdout",
     "output_type": "stream",
     "text": [
      "[1.]\n",
      "[-0.16194455  0.01090809  0.97433024  0.1559986 ]\n",
      "[ 0.67701845 -0.17267149  0.46267419  0.5456768 ]\n",
      "[-0.6388783  -0.61156506 -0.43463404  0.1700469 ]\n",
      "[-0.58225588  0.11947942  0.05768481 -0.80210674]\n",
      "[-0.32840251  0.8625416   0.19736311  0.3304869 ]\n",
      "[ 0.53878607 -0.53108736  0.27270038  0.59438228]\n",
      "[ 0.8023033  -0.42153121 -0.33042209 -0.26351867]\n",
      "[-1.]\n"
     ]
    }
   ],
   "source": [
    "Y_base = teneva.convert(Y) # Convert it to numpy version\n",
    "phi_l = teneva_base.interface(Y_base, ltr=True)\n",
    "for phi in phi_l:\n",
    "    print(phi)"
   ]
  },
  {
   "cell_type": "markdown",
   "id": "cca92d2f-a671-424d-baa2-3b5db5ccb98b",
   "metadata": {
    "tags": []
   },
   "source": [
    "## Function `interface_rtl`"
   ]
  },
  {
   "cell_type": "markdown",
   "id": "e8639f7b-6975-4341-a451-5de21ac818d1",
   "metadata": {},
   "source": [
    "Generate the right to left interface vectors for the TT-tensor Y."
   ]
  },
  {
   "cell_type": "code",
   "execution_count": 21,
   "id": "aa788e59-75e3-497e-81ef-d5e3dcfbe62d",
   "metadata": {
    "tags": []
   },
   "outputs": [
    {
     "name": "stdout",
     "output_type": "stream",
     "text": [
      "[-0.88230513 -0.25794634 -0.22432639  0.32354136]\n",
      "[-0.55980014 -0.15127749  0.74733168  0.32439836]\n",
      "[-0.19815258 -0.19100523  0.73302586  0.62203348]\n",
      "[ 0.58566709  0.38105157 -0.21170587 -0.68335524]\n",
      "[ 0.26252681  0.77866465 -0.02860785 -0.56915958]\n",
      "[-0.04265967 -0.49325475  0.24061258  0.83485657]\n",
      "[-0.4873671  -0.4158353   0.35158957  0.68259731]\n"
     ]
    }
   ],
   "source": [
    "rng, key = jax.random.split(rng)\n",
    "Y = teneva.rand(d=8, n=5, r=4, key=key)\n",
    "zl, zm = teneva.interface_rtl(Y)\n",
    "\n",
    "print(zl)\n",
    "for z in zm:\n",
    "    print(z)"
   ]
  },
  {
   "cell_type": "markdown",
   "id": "29abbb63-dc08-4b64-906b-c49b4ed60844",
   "metadata": {},
   "source": [
    "Let compare this function with numpy (base) realization:"
   ]
  },
  {
   "cell_type": "code",
   "execution_count": 22,
   "id": "784757fc-91dc-4643-87b8-8c60081d498b",
   "metadata": {
    "tags": []
   },
   "outputs": [
    {
     "name": "stdout",
     "output_type": "stream",
     "text": [
      "[-1.]\n",
      "[-0.88230513 -0.25794634 -0.22432639  0.32354136]\n",
      "[-0.55980014 -0.15127749  0.74733168  0.32439836]\n",
      "[-0.19815258 -0.19100523  0.73302586  0.62203348]\n",
      "[ 0.58566709  0.38105157 -0.21170587 -0.68335524]\n",
      "[ 0.26252681  0.77866465 -0.02860785 -0.56915958]\n",
      "[-0.04265967 -0.49325475  0.24061258  0.83485657]\n",
      "[-0.4873671  -0.4158353   0.35158957  0.68259731]\n",
      "[1.]\n"
     ]
    }
   ],
   "source": [
    "Y_base = teneva.convert(Y) # Convert it to numpy version\n",
    "phi_r = teneva_base.interface(Y_base, ltr=False)\n",
    "for phi in phi_r:\n",
    "    print(phi)"
   ]
  },
  {
   "cell_type": "markdown",
   "id": "594d7eed-ec1c-4531-8555-e5b3b6b85cef",
   "metadata": {
    "tags": []
   },
   "source": [
    "## Function `mean`"
   ]
  },
  {
   "cell_type": "markdown",
   "id": "d62cd4a0-10a1-4cd4-9817-658826ee3d23",
   "metadata": {},
   "source": [
    "Compute mean value of the TT-tensor."
   ]
  },
  {
   "cell_type": "code",
   "execution_count": 23,
   "id": "8d66bf89-cc47-41ad-9e73-c831e33a161f",
   "metadata": {
    "tags": []
   },
   "outputs": [
    {
     "name": "stdout",
     "output_type": "stream",
     "text": [
      "Error     : 1.41e-18\n"
     ]
    }
   ],
   "source": [
    "d = 6     # Dimension of the tensor\n",
    "n = 5     # Mode size of the tensor\n",
    "r = 4     # Rank of the tensor\n",
    "\n",
    "rng, key = jax.random.split(rng)\n",
    "Y = teneva.rand(d, n, r, key)\n",
    "\n",
    "m = teneva.mean(Y)\n",
    "\n",
    "# Compute tensor in the full format to check the result:\n",
    "Y_full = teneva.full(Y)\n",
    "m_full = jnp.mean(Y_full)\n",
    "e = abs(m - m_full)\n",
    "print(f'Error     : {e:-8.2e}')"
   ]
  },
  {
   "cell_type": "markdown",
   "id": "c010ed92-54c3-4205-be70-396a95e4223c",
   "metadata": {},
   "source": [
    "We can check it also for big random tensor:"
   ]
  },
  {
   "cell_type": "code",
   "execution_count": 24,
   "id": "b0ed5b61-f472-49ae-94d4-b93b8c3c295c",
   "metadata": {
    "tags": []
   },
   "outputs": [
    {
     "data": {
      "text/plain": [
       "Array(0., dtype=float64)"
      ]
     },
     "execution_count": 24,
     "metadata": {},
     "output_type": "execute_result"
    }
   ],
   "source": [
    "rng, key = jax.random.split(rng)\n",
    "Y = teneva.rand(d=1000, n=100, r=10, key=key)\n",
    "teneva.mean(Y)"
   ]
  },
  {
   "cell_type": "markdown",
   "id": "b3dd5f46-5dda-42ea-9322-884a3cb1cec6",
   "metadata": {
    "tags": []
   },
   "source": [
    "## Function `mean_stab`"
   ]
  },
  {
   "cell_type": "markdown",
   "id": "979ee56d-e0ef-4912-86b3-95fffae1b667",
   "metadata": {},
   "source": [
    "Compute mean value of the TT-tensor with stabilization factor."
   ]
  },
  {
   "cell_type": "code",
   "execution_count": 25,
   "id": "bd284ab8-f2f0-4189-a57b-642a8349500d",
   "metadata": {
    "tags": []
   },
   "outputs": [
    {
     "name": "stdout",
     "output_type": "stream",
     "text": [
      "-1.3138548907194174\n",
      "[-2. -1. -1.  0. -2. -1.]\n",
      "-0.010264491333745449\n",
      "Error     : 5.20e-18\n"
     ]
    }
   ],
   "source": [
    "d = 6     # Dimension of the tensor\n",
    "n = 5     # Mode size of the tensor\n",
    "r = 4     # Rank of the tensor\n",
    "\n",
    "rng, key = jax.random.split(rng)\n",
    "Y = teneva.rand(d, n, r, key)\n",
    "\n",
    "m, p = teneva.mean_stab(Y)\n",
    "print(m)\n",
    "print(p)\n",
    "\n",
    "# Reconstruct the value:\n",
    "m = m * 2.**jnp.sum(p)\n",
    "print(m)\n",
    "\n",
    "# Compute tensor in the full format to check the result:\n",
    "Y_full = teneva.full(Y)\n",
    "m_full = jnp.mean(Y_full)\n",
    "e = abs(m - m_full)\n",
    "print(f'Error     : {e:-8.2e}')"
   ]
  },
  {
   "cell_type": "markdown",
   "id": "76aa296b-509f-4e96-b483-625816cef3b5",
   "metadata": {},
   "source": [
    "We can check it also for big random tensor:"
   ]
  },
  {
   "cell_type": "code",
   "execution_count": 26,
   "id": "0c695920-8ba7-4b04-a3ac-b0f282b83241",
   "metadata": {
    "tags": []
   },
   "outputs": [
    {
     "name": "stdout",
     "output_type": "stream",
     "text": [
      "-1.2086063088986352 -2530.0\n"
     ]
    }
   ],
   "source": [
    "rng, key = jax.random.split(rng)\n",
    "Y = teneva.rand(d=1000, n=100, r=10, key=key)\n",
    "m, p = teneva.mean_stab(Y)\n",
    "print(m, jnp.sum(p))"
   ]
  },
  {
   "cell_type": "markdown",
   "id": "a397ba46-3b10-4494-9b1f-b743c1e63780",
   "metadata": {
    "tags": []
   },
   "source": [
    "## Function `norm`"
   ]
  },
  {
   "cell_type": "markdown",
   "id": "87e9128d-10a4-4122-8ea3-72d35c0bcc9a",
   "metadata": {},
   "source": [
    "Compute Frobenius norm of the given TT-tensor."
   ]
  },
  {
   "cell_type": "code",
   "execution_count": 27,
   "id": "5ebc776c-9e2b-4351-bb6c-a92091678c6e",
   "metadata": {
    "tags": []
   },
   "outputs": [],
   "source": [
    "d = 5   # Dimension of the tensor\n",
    "n = 6   # Mode size of the tensor\n",
    "r = 3   # TT-rank of the tensor"
   ]
  },
  {
   "cell_type": "code",
   "execution_count": 28,
   "id": "f048e409-6327-4147-bb86-0abb31796c78",
   "metadata": {
    "tags": []
   },
   "outputs": [],
   "source": [
    "rng, key = jax.random.split(rng)\n",
    "Y = teneva.rand(d, n, r, key)"
   ]
  },
  {
   "cell_type": "code",
   "execution_count": 29,
   "id": "1f092bc8-2f16-4517-a0f2-5cc2bc37a2b8",
   "metadata": {
    "tags": []
   },
   "outputs": [
    {
     "name": "stdout",
     "output_type": "stream",
     "text": [
      "[50.28527148]\n"
     ]
    }
   ],
   "source": [
    "v = teneva.norm(Y)  # Compute the Frobenius norm\n",
    "print(v)            # Print the resulting value"
   ]
  },
  {
   "cell_type": "markdown",
   "id": "5018f631-a343-4dc1-842c-c0391f4d1e7c",
   "metadata": {},
   "source": [
    "Let check the result:"
   ]
  },
  {
   "cell_type": "code",
   "execution_count": 30,
   "id": "37f7de75-d195-430d-a785-38300212d182",
   "metadata": {
    "tags": []
   },
   "outputs": [
    {
     "name": "stdout",
     "output_type": "stream",
     "text": [
      "50.28527148425206\n",
      "Error     : 8.48e-16\n"
     ]
    }
   ],
   "source": [
    "Y_full = teneva.full(Y)\n",
    "\n",
    "v_full = jnp.linalg.norm(Y_full)\n",
    "print(v_full)\n",
    "\n",
    "e = abs((v - v_full)/v_full).item()\n",
    "print(f'Error     : {e:-8.2e}') "
   ]
  },
  {
   "cell_type": "markdown",
   "id": "c726e371-dd03-4b0a-a88a-acf2b8715c57",
   "metadata": {
    "tags": []
   },
   "source": [
    "## Function `norm_stab`"
   ]
  },
  {
   "cell_type": "markdown",
   "id": "6ef8ee06-eee5-4979-8dcb-28531943b2ce",
   "metadata": {},
   "source": [
    "Compute Frobenius norm of the given TT-tensor with stabilization factor."
   ]
  },
  {
   "cell_type": "code",
   "execution_count": 31,
   "id": "3089f854-4e73-4da8-a6ce-d0a59e1974f5",
   "metadata": {
    "tags": []
   },
   "outputs": [],
   "source": [
    "d = 5   # Dimension of the tensor\n",
    "n = 6   # Mode size of the tensor\n",
    "r = 3   # Rank of the tensor"
   ]
  },
  {
   "cell_type": "code",
   "execution_count": 32,
   "id": "29da08cf-c82f-4a8e-9e07-bc51e36f67e9",
   "metadata": {
    "tags": []
   },
   "outputs": [],
   "source": [
    "rng, key = jax.random.split(rng)\n",
    "Y = teneva.rand(d, n, r, key)"
   ]
  },
  {
   "cell_type": "code",
   "execution_count": 33,
   "id": "3f9a351b-50b6-416d-9202-319c01fcafa6",
   "metadata": {
    "tags": []
   },
   "outputs": [
    {
     "name": "stdout",
     "output_type": "stream",
     "text": [
      "[1.03970497]\n",
      "[0.5 1.  1.5 1.  1.5]\n",
      "[47.05167577]\n"
     ]
    }
   ],
   "source": [
    "v, p = teneva.norm_stab(Y) # Compute the Frobenius norm\n",
    "print(v) # Print the scaled value\n",
    "print(p) # Print the scale factors\n",
    "\n",
    "v = v * 2**jnp.sum(p) # Resulting value\n",
    "print(v)   # Print the resulting value"
   ]
  },
  {
   "cell_type": "markdown",
   "id": "cc825ac7-4836-4557-b488-745d2c9bb4c7",
   "metadata": {},
   "source": [
    "Let check the result:"
   ]
  },
  {
   "cell_type": "code",
   "execution_count": 34,
   "id": "a2de8b08-d4a4-4f66-a251-3a28bb9d1fca",
   "metadata": {
    "tags": []
   },
   "outputs": [
    {
     "name": "stdout",
     "output_type": "stream",
     "text": [
      "47.05167576892552\n",
      "Error     : 9.06e-16\n"
     ]
    }
   ],
   "source": [
    "Y_full = teneva.full(Y)\n",
    "\n",
    "v_full = jnp.linalg.norm(Y_full)\n",
    "print(v_full)\n",
    "\n",
    "e = abs((v - v_full)/v_full).item()\n",
    "print(f'Error     : {e:-8.2e}') "
   ]
  },
  {
   "cell_type": "markdown",
   "id": "31599d04-9c79-47a9-a23c-9110e94f0ba1",
   "metadata": {
    "tags": []
   },
   "source": [
    "## Function `sum`"
   ]
  },
  {
   "cell_type": "markdown",
   "id": "f1273f98-0c04-4d2a-8d93-ebb7ee1f561a",
   "metadata": {},
   "source": [
    "Compute sum of all tensor elements."
   ]
  },
  {
   "cell_type": "code",
   "execution_count": 35,
   "id": "c1ec3479-058f-4f06-b554-2ebf4d71741b",
   "metadata": {
    "tags": []
   },
   "outputs": [
    {
     "name": "stdout",
     "output_type": "stream",
     "text": [
      "Error     : 1.81e-13\n"
     ]
    }
   ],
   "source": [
    "d = 6     # Dimension of the tensor\n",
    "n = 5     # Mode size of the tensor\n",
    "r = 4     # Rank of the tensor\n",
    "\n",
    "rng, key = jax.random.split(rng)\n",
    "Y = teneva.rand(d, n, r, key)\n",
    "\n",
    "m = teneva.sum(Y)\n",
    "\n",
    "# Compute tensor in the full format to check the result:\n",
    "Y_full = teneva.full(Y)\n",
    "m_full = jnp.sum(Y_full)\n",
    "e = abs(m - m_full)\n",
    "print(f'Error     : {e:-8.2e}')"
   ]
  },
  {
   "cell_type": "markdown",
   "id": "4a7ce835-3bec-448c-b96b-ab981a85dcd3",
   "metadata": {},
   "source": [
    "We can check it also for big random tensor:"
   ]
  },
  {
   "cell_type": "code",
   "execution_count": 36,
   "id": "60d80f70-6fdf-4ddb-9c22-8f8e02a54369",
   "metadata": {
    "tags": []
   },
   "outputs": [
    {
     "data": {
      "text/plain": [
       "Array(0., dtype=float64)"
      ]
     },
     "execution_count": 36,
     "metadata": {},
     "output_type": "execute_result"
    }
   ],
   "source": [
    "rng, key = jax.random.split(rng)\n",
    "Y = teneva.rand(d=1000, n=100, r=10, key=key, a=-0.01, b=+0.01)\n",
    "teneva.sum(Y)"
   ]
  },
  {
   "cell_type": "markdown",
   "id": "51b07c76-09d5-4545-8d83-676ec8e431c8",
   "metadata": {
    "tags": []
   },
   "source": [
    "## Function `sum_stab`"
   ]
  },
  {
   "cell_type": "markdown",
   "id": "5240f397-fcc4-403f-9848-24e404bca3c5",
   "metadata": {},
   "source": [
    "Compute sum of all tensor elements with stabilization factor."
   ]
  },
  {
   "cell_type": "code",
   "execution_count": 37,
   "id": "880b337a-6c42-489f-bcb3-48e2a43da854",
   "metadata": {
    "tags": []
   },
   "outputs": [
    {
     "name": "stdout",
     "output_type": "stream",
     "text": [
      "1.7145681216308906\n",
      "[0. 1. 1. 1. 2. 0.]\n",
      "54.8661798921885\n",
      "Error     : 2.56e-13\n"
     ]
    }
   ],
   "source": [
    "d = 6     # Dimension of the tensor\n",
    "n = 5     # Mode size of the tensor\n",
    "r = 4     # Rank of the tensor\n",
    "\n",
    "rng, key = jax.random.split(rng)\n",
    "Y = teneva.rand(d, n, r, key)\n",
    "\n",
    "m, p = teneva.sum_stab(Y)\n",
    "print(m)\n",
    "print(p)\n",
    "\n",
    "# Reconstruct the value:\n",
    "m = m * 2.**jnp.sum(p)\n",
    "print(m)\n",
    "\n",
    "# Compute tensor in the full format to check the result:\n",
    "Y_full = teneva.full(Y)\n",
    "m_full = jnp.sum(Y_full)\n",
    "e = abs(m - m_full)\n",
    "print(f'Error     : {e:-8.2e}')"
   ]
  },
  {
   "cell_type": "markdown",
   "id": "0a9329a9-ebfe-46c4-8bc4-05c639ac87c5",
   "metadata": {},
   "source": [
    "We can check it also for big random tensor:"
   ]
  },
  {
   "cell_type": "code",
   "execution_count": 38,
   "id": "3b934e67-d76b-4461-9a7a-ded4a4bd5ec8",
   "metadata": {
    "tags": []
   },
   "outputs": [
    {
     "name": "stdout",
     "output_type": "stream",
     "text": [
      "-1.4416615020667247 -2538.0\n"
     ]
    }
   ],
   "source": [
    "rng, key = jax.random.split(rng)\n",
    "Y = teneva.rand(d=1000, n=100, r=10, key=key, a=-0.01, b=+0.01)\n",
    "m, p = teneva.sum_stab(Y)\n",
    "print(m, jnp.sum(p))"
   ]
  },
  {
   "cell_type": "markdown",
   "id": "2e05c469-385b-46dc-b0b9-fef87d4bf047",
   "metadata": {},
   "source": [
    "---"
   ]
  }
 ],
 "metadata": {
  "kernelspec": {
   "display_name": "Python 3 (ipykernel)",
   "language": "python",
   "name": "python3"
  },
  "language_info": {
   "codemirror_mode": {
    "name": "ipython",
    "version": 3
   },
   "file_extension": ".py",
   "mimetype": "text/x-python",
   "name": "python",
   "nbconvert_exporter": "python",
   "pygments_lexer": "ipython3",
   "version": "3.8.16"
  }
 },
 "nbformat": 4,
 "nbformat_minor": 5
}
